{
  "nbformat": 4,
  "nbformat_minor": 0,
  "metadata": {
    "colab": {
      "provenance": []
    },
    "kernelspec": {
      "name": "python3",
      "display_name": "Python 3"
    },
    "language_info": {
      "name": "python"
    }
  },
  "cells": [
    {
      "cell_type": "code",
      "execution_count": 7,
      "metadata": {
        "colab": {
          "base_uri": "https://localhost:8080/"
        },
        "id": "Q26Edr2y7cka",
        "outputId": "162426d2-7830-4082-9af1-5b19753b588d"
      },
      "outputs": [
        {
          "output_type": "stream",
          "name": "stdout",
          "text": [
            "Drive already mounted at /content/drive; to attempt to forcibly remount, call drive.mount(\"/content/drive\", force_remount=True).\n"
          ]
        }
      ],
      "source": [
        "## This program was written using google colab, these libraries allow file imports and streamline some features\n",
        "import os\n",
        "from google.colab import drive\n",
        "drive.mount('/content/drive')\n",
        "\n",
        "## The Dataframe and Math libraries\n",
        "\n",
        "import pandas as pd\n",
        "import numpy as np\n",
        "\n",
        "## And a lot of plotting Libraries\n",
        "\n",
        "import matplotlib.pyplot as plt\n",
        "import matplotlib.patches as patches\n",
        "from matplotlib import transforms\n",
        "from matplotlib.patches import Circle, PathPatch\n",
        "from mpl_toolkits.mplot3d import Axes3D\n",
        "import mpl_toolkits.mplot3d.art3d as art3d\n",
        "import matplotlib as mpl"
      ]
    },
    {
      "cell_type": "code",
      "source": [
        "##This section of the code loaded all our data provided from SMT from our google drive into a single nested dataframe\n",
        "\n",
        "pd.set_option('display.width', 180)\n",
        "base_folder_path = '/content/drive/MyDrive/smt_data_challenge_2023/'\n",
        "subfolders = ['ball_pos', 'player_pos', 'game_events', 'game_info']\n",
        "\n",
        "bbdata = {}\n",
        "\n",
        "for subfolder in subfolders:\n",
        "    folder_path = os.path.join(base_folder_path, subfolder)\n",
        "    csv_files = [file for file in os.listdir(folder_path) if file.endswith('.csv')]\n",
        "\n",
        "    for csv_file in csv_files:\n",
        "        file_name = os.path.splitext(csv_file)[0]\n",
        "        file_path = os.path.join(folder_path, csv_file)\n",
        "        bbdata[file_name] = pd.read_csv(file_path)\n",
        "\n",
        "##This is where the data starts being parsed to find out POI's\n",
        "##Here we look for only plays where a catcher makes a throw and start to find our POI's\n",
        "\n",
        "filtered_play_game_combinations = []\n",
        "\n",
        "for key, df in bbdata.items():\n",
        "    if key.startswith('game_events'):\n",
        "        filtered_indices = df.index[(df['player_position'] == 2) & (df['event_code'] == 3)]\n",
        "        for index in filtered_indices:\n",
        "            play_id = df.loc[index, 'play_id']\n",
        "            game_str = df.loc[index, 'game_str']\n",
        "            filtered_play_game_combinations.append((game_str, play_id))\n",
        "\n",
        "\n",
        "unique_filtered_play_game_combinations = list(set(filtered_play_game_combinations))\n",
        "\n",
        "##This saves all our plays with those parameters\n",
        "\n",
        "filtered_dfs = {}\n",
        "for key, df in bbdata.items():\n",
        "    if key.startswith('game_events'):\n",
        "        filtered_dfs[key] = df[\n",
        "            df.apply(lambda row: (row['game_str'], row['play_id']) in unique_filtered_play_game_combinations, axis=1)\n",
        "        ]\n",
        "\n",
        "# Concatenate the filtered DataFrames into a single DataFrame\n",
        "concatenated_df = pd.concat(filtered_dfs.values())\n",
        "\n",
        "grouped_df = concatenated_df.groupby(['game_str', 'play_id']).apply(lambda x: x.reset_index(drop=True))\n",
        "grouped_df = grouped_df.reset_index(drop=True)\n",
        "\n",
        "# This our next point of parsing where all instances of a steal attempt at second would show up, so limiting next player interacting to second baseman\n",
        "# short stops, and actions like ball bounces or deflections, including deflections off runners\n",
        "filtered_groups = []\n",
        "for (game_str, play_id), group_df in grouped_df.groupby(['game_str', 'play_id']):\n",
        "    if game_str > \"1901_18_TeamLH_TeamA3\":\n",
        "        if (group_df['player_position'].iloc[0] == 1) & (group_df['event_code'].iloc[0] == 1):\n",
        "            if any(\n",
        "                (group_df['player_position'].isin([4, 6, 11, 12, 255])) &\n",
        "                (group_df['event_code'].isin([2, 9, 16]))\n",
        "            ):\n",
        "                if not (\n",
        "                    (group_df['player_position'].shift(-1) == 255) &\n",
        "                    (group_df['event_code'].shift(-1) == 16) &\n",
        "                    (group_df['player_position'] == 3)\n",
        "                ).any():\n",
        "                    if not (\n",
        "                        (group_df['player_position'].shift(-1) == 255) &\n",
        "                        (group_df['event_code'].shift(-1) == 16) &\n",
        "                        (group_df['player_position'] == 5)\n",
        "                    ).any():\n",
        "                        if not (\n",
        "                            (group_df['player_position'] == 10) &\n",
        "                            (group_df['event_code'] == 4)\n",
        "                        ).any():\n",
        "                            filtered_groups.append(group_df)\n",
        "\n",
        "filtered_grouped_df = pd.concat(filtered_groups)\n",
        "\n",
        "# Counting the number of unique combinations of game_str and play_id these qualify as our POI's\n",
        "num_unique_combinations = filtered_grouped_df[['game_str', 'play_id']].drop_duplicates().shape[0]\n",
        "\n",
        "# checking number of POI's\n",
        "print(\"Number of unique combinations:\", num_unique_combinations)\n",
        "\n",
        "# Saving the filtered data to a CSV, if you run this code yourself, change the location of saved file\n",
        "filtered_grouped_df.to_csv('/content/drive/MyDrive/smt_data_challenge_2023/PossibleStealAttempts.csv', index=False)"
      ],
      "metadata": {
        "id": "69zQtZj7HEw6",
        "colab": {
          "base_uri": "https://localhost:8080/"
        },
        "outputId": "f91d6a56-0a3f-415e-8ef8-11ff5cf1bf93"
      },
      "execution_count": 41,
      "outputs": [
        {
          "output_type": "stream",
          "name": "stdout",
          "text": [
            "Number of unique combinations: 106\n"
          ]
        }
      ]
    },
    {
      "cell_type": "code",
      "source": [
        "# Read the Steals.csv file to plot positions of our players during unsuccessful caught stealing attempts\n",
        "steals = pd.read_csv('/content/drive/MyDrive/smt_data_challenge_2023/Steals.csv')\n",
        "\n",
        "# Drop our notes from CSV\n",
        "game_play_list = steals[['game_str', 'play_id']].drop_duplicates().values.tolist()\n",
        "\n",
        "game_play_df = pd.DataFrame(game_play_list, columns=['game_str', 'play_id'])\n",
        "\n",
        "# Initialize an empty list to store the filtered DataFrames\n",
        "filtered_dataframes = []\n",
        "\n",
        "# Iterate through the keys in bbdata to find the timestamp of the play when it start\n",
        "for key, df in bbdata.items():\n",
        "    # Check if the key starts with 'game_events'\n",
        "    if key.startswith('game_events'):\n",
        "        # Filter rows where player_position is 1 and event_code is 1 (start of play)\n",
        "        filtered_rows = df[(df['player_position'] == 1) & (df['event_code'] == 1)]\n",
        "\n",
        "        filtered_dataframes.append(filtered_rows)\n",
        "\n",
        "\n",
        "filtered_game_events_df = pd.concat(filtered_dataframes)\n",
        "\n",
        "merged_df = pd.merge(game_play_df, filtered_game_events_df, on=['game_str', 'play_id'])\n",
        "\n",
        "merged_df = merged_df[['game_str', 'timestamp']]\n",
        "\n",
        "position_dataframes = []\n",
        "\n",
        "for key, df in bbdata.items():\n",
        "    # Check if the key starts with 'player_pos'\n",
        "    if key.startswith('player_pos'):\n",
        "        # Filter rows where player_position is second or short\n",
        "        filtered_rows = df[df['player_position'].isin([4, 6])]\n",
        "        # Append the filtered rows to the list\n",
        "        position_dataframes.append(filtered_rows)\n",
        "\n",
        "\n",
        "filtered_player_pos_df = pd.concat(position_dataframes)\n",
        "\n",
        "steals_pos_df = pd.merge(merged_df, filtered_player_pos_df, on=['game_str', 'timestamp'])\n",
        "steals_pos_df = steals_pos_df.drop(columns=['Unnamed: 0'])\n",
        "\n",
        "# Calculate plot_x and plot_y columns (this is a scale we made for our plot)\n",
        "steals_pos_df['plot_x'] = steals_pos_df['field_x'] * (.31 / 90)\n",
        "steals_pos_df['plot_y'] = steals_pos_df['field_y'] * (.31 / 90)\n",
        "\n",
        "steals_pos_df.to_csv('/content/drive/MyDrive/smt_data_challenge_2023/PlotSteals.csv', index=False)\n",
        "\n",
        "##Now we just do the same thing with our parsed caught stealing data but this time only grabbing the player position of the player who caught the runner\n",
        "\n",
        "caught_steals = pd.read_csv('/content/drive/MyDrive/smt_data_challenge_2023/CaughtStealing.csv')\n",
        "\n",
        "# drop catcher data from this set\n",
        "caught_steals_modified = caught_steals.groupby('play_id').nth(1).reset_index()\n",
        "\n",
        "\n",
        "filtered_dataframes = []\n",
        "\n",
        "for key, df in bbdata.items():\n",
        "    if key.startswith('game_events'):\n",
        "        filtered_rows = df[(df['player_position'] == 1) & (df['event_code'] == 1)]\n",
        "        filtered_dataframes.append(filtered_rows)\n",
        "\n",
        "filtered_game_events_df = pd.concat(filtered_dataframes)\n",
        "\n",
        "# Merge to get game_str and timestamp\n",
        "merged_df = pd.merge(caught_steals_modified[['game_str', 'play_id']], filtered_game_events_df, on=['game_str', 'play_id'])\n",
        "merged_df = merged_df[['game_str', 'timestamp']]\n",
        "\n",
        "# Filter player_pos DataFrames based on game_str and play_id from caught_steals_modified, this got a little more complicated since we only wanted the positioning of the player who tagged the runner\n",
        "position_dataframes = []\n",
        "\n",
        "for key, df in bbdata.items():\n",
        "    if key.startswith('player_pos'):\n",
        "        filtered_rows = df[df['game_str'].isin(caught_steals_modified['game_str']) & df['play_id'].isin(caught_steals_modified['play_id'])]\n",
        "        filtered_rows = filtered_rows[filtered_rows['player_position'].isin(caught_steals_modified['player_position'])]\n",
        "        position_dataframes.append(filtered_rows)\n",
        "\n",
        "filtered_player_pos_df = pd.concat(position_dataframes)\n",
        "\n",
        "caught_steals_pos_df = pd.merge(merged_df, filtered_player_pos_df, on=['game_str', 'timestamp'])\n",
        "caught_steals_pos_df = caught_steals_pos_df.drop(columns=['Unnamed: 0'])\n",
        "\n",
        "\n",
        "caught_steals_pos_df['plot_x'] = caught_steals_pos_df['field_x'] * (.31 / 90)\n",
        "caught_steals_pos_df['plot_y'] = caught_steals_pos_df['field_y'] * (.31 / 90)\n",
        "\n",
        "\n",
        "merged_cols = ['player_position', 'game_str', 'play_id']\n",
        "final_df = caught_steals_pos_df.merge(caught_steals_modified, on=merged_cols)\n",
        "\n",
        "final_df.to_csv('/content/drive/MyDrive/smt_data_challenge_2023/PlotCaughtStealing.csv', index=False)\n"
      ],
      "metadata": {
        "colab": {
          "base_uri": "https://localhost:8080/"
        },
        "id": "XiGYoAGxo7V8",
        "outputId": "a281884e-0d1e-48f3-9c86-78f207513b01"
      },
      "execution_count": 77,
      "outputs": [
        {
          "output_type": "stream",
          "name": "stdout",
          "text": [
            "                 game_str  timestamp_x  play_id  player_position  field_x   field_y    plot_x    plot_y  Unnamed: 0  at_bat  play_per_game  timestamp_y  event_code result  \\\n",
            "0   1903_31_TeamNB_TeamA1       823292       25                6 -12.9504  135.6867 -0.044607  0.467365         112       8             25       825792           2      \"   \n",
            "1   1902_16_TeamMD_TeamA2      1565423       49                6 -27.0381  136.2297 -0.093131  0.469236         185      14             49      1567873           2      \"   \n",
            "2   1902_12_TeamMI_TeamA3      1942204       61                4  24.3624  142.6614  0.083915  0.491389         232      17             61      1944504           2      \"   \n",
            "3   1903_30_TeamNF_TeamA2      2209197       77                4  18.3120  141.8379  0.063075  0.488553         286      19             77      2211547           2      \"   \n",
            "4   1902_23_TeamMA_TeamA1      2460888       80                6  14.0421  138.5706  0.048367  0.477299         299      20             80      2463238           2      \"   \n",
            "5   1903_05_TeamND_TeamA2      3321962      114                6 -21.1158  148.1283 -0.072732  0.510220         413      26            114      3324362           2      \"   \n",
            "6   1903_23_TeamNA_TeamA1      4332094      137                4  19.3530  143.8206  0.066660  0.495382         522      37            141      4334644           2      \"   \n",
            "7   1902_17_TeamMB_TeamA1      6501318      184                4  25.2819  134.6643  0.087082  0.463844         766      50            185      6503768           2      \"   \n",
            "8   1903_30_TeamNF_TeamA2      6083297      195                6 -16.6464  136.5468 -0.057338  0.470328         744      49            195      6085647           2      \"   \n",
            "9   1902_16_TeamMD_TeamA2      6674266      198                6 -11.9175  138.6285 -0.041049  0.477498         753      52            198      6676816           2      \"   \n",
            "10   1902_08_TeamMJ_TeamB      8460894      222                4   5.0373  148.4505  0.017351  0.511329         851      56            222      8463344           2      \"   \n",
            "11   1902_08_TeamMJ_TeamB     14179505      369                6 -24.2517  131.4378 -0.083534  0.452730        1422      99            369     14183305           2      \"   \n",
            "\n",
            "    reqd timestamp  \n",
            "0              NaN  \n",
            "1              NaN  \n",
            "2              NaN  \n",
            "3              NaN  \n",
            "4              NaN  \n",
            "5              NaN  \n",
            "6              NaN  \n",
            "7              NaN  \n",
            "8              NaN  \n",
            "9              NaN  \n",
            "10             NaN  \n",
            "11             NaN  \n"
          ]
        }
      ]
    },
    {
      "cell_type": "code",
      "source": [
        "#loading the csv's we just made\n",
        "CaughtStealing = pd.read_csv('/content/drive/MyDrive/smt_data_challenge_2023/PlotCaughtStealing.csv')\n",
        "Steals = pd.read_csv('/content/drive/MyDrive/smt_data_challenge_2023/PlotSteals.csv')\n",
        "\n",
        "#This plots our baseball field\n",
        "class Baseball_Field:\n",
        "    def __init__(self,figsize):\n",
        "        self.figsize=figsize\n",
        "\n",
        "    def __generate_baseball_field2D__(self):\n",
        "        fig = plt.figure()\n",
        "        fig, ax = plt.subplots(1, figsize=self.figsize)\n",
        "        ax.add_patch(patches.Rectangle((-1.,0.0), 7, 7, facecolor=\"#247309\",  alpha=0.50))\n",
        "\n",
        "        ax.add_patch(patches.Wedge((0.00,0.00), 1.2, 45, 135, ec=\"none\",edgecolor='orange',facecolor=\"green\", linewidth=2, ))\n",
        "        ax.add_patch(patches.Wedge((0.0,0.0), 0.6363, 45, 135, ec=\"none\",edgecolor='orange',facecolor='white', linewidth=2, ))\n",
        "        ax.add_patch(patches.Wedge((0.0,0.0), 0.6263, 45, 135, ec=\"none\",edgecolor='orange',facecolor='#66431d', linewidth=2, ))\n",
        "\n",
        "        ax.add_patch(patches.Rectangle((0.0,0.0), 0.32, 0.32, angle=45, facecolor=\"white\",ec=\"none\"))\n",
        "        ax.add_patch(patches.Rectangle((0.0,0.0), 0.31, 0.31, angle=45, facecolor=\"green\",ec=\"none\"))\n",
        "\n",
        "        ax.add_patch(patches.Circle((0.0,0.0), 0.056, angle=45, ec=\"none\",facecolor='white',edgecolor='white',linewidth=10))\n",
        "\n",
        "        ax.add_patch(patches.Circle((0.0,0.0), 0.05, angle=45, ec=\"none\",facecolor='#66431d',edgecolor='white',linewidth=10))\n",
        "        ax.add_patch(patches.Wedge((0.0,0.0), 0.056, 45, 135, ec=\"none\",facecolor=\"#66431d\" ))\n",
        "        ax.add_patch(patches.Rectangle((0.0,0.0), 1.0, 0.01, angle=45, facecolor=\"white\",ec=\"none\"))\n",
        "        ax.add_patch(patches.Rectangle((0.0,0.0), 0.01, 1, angle=45, facecolor=\"white\",ec=\"none\"))\n",
        "        ax.add_patch(patches.Circle((0.00,0.208), 0.02, angle=45, ec=\"none\",facecolor='white',edgecolor='white',linewidth=10))\n",
        "\n",
        "        for indsex, row in Steals.iterrows():\n",
        "            ax.add_patch(patches.Circle((row['plot_x'], row['plot_y']), .01, facecolor='#fc0303'))\n",
        "            ###CENTROID PLOT###\n",
        "        ax.add_patch(patches.Circle((-0.06664, 0.475687), .040, facecolor=\"yellow\", alpha=0.6))\n",
        "        ax.add_patch(patches.Circle((0.061075, 0.487966), .055, facecolor=\"yellow\", alpha=0.6))\n",
        "            ###CENTROID PLOT###\n",
        "        for index, row in CaughtStealing.iterrows():\n",
        "            ax.add_patch(patches.Circle((row['plot_x'], row['plot_y']), .01, facecolor='#5af542'))\n",
        "\n",
        "\n",
        "        plt.grid()\n",
        "        plt.xlim(-1,1)\n",
        "        plt.ylim(0,2)\n",
        "        return fig,ax\n",
        "        obj=Baseball_Field((9,9))\n",
        "        fig,ax=obj.__generate_baseball_field2D__()\n",
        "\n",
        "obj=Baseball_Field((9,9))\n",
        "fig,ax=obj.__generate_baseball_field2D__()\n",
        "ax.set_xticks([])\n",
        "ax.set_yticks([])\n",
        "\n"
      ],
      "metadata": {
        "colab": {
          "base_uri": "https://localhost:8080/",
          "height": 766
        },
        "id": "gaznfgOlnIJH",
        "outputId": "794acd3a-8e99-4e46-9ff0-3f71bea7a633"
      },
      "execution_count": 78,
      "outputs": [
        {
          "output_type": "execute_result",
          "data": {
            "text/plain": [
              "[]"
            ]
          },
          "metadata": {},
          "execution_count": 78
        },
        {
          "output_type": "display_data",
          "data": {
            "text/plain": [
              "<Figure size 640x480 with 0 Axes>"
            ]
          },
          "metadata": {}
        },
        {
          "output_type": "display_data",
          "data": {
            "text/plain": [
              "<Figure size 900x900 with 1 Axes>"
            ],
            "image/png": "[encoded data removed]"
          },
          "metadata": {}
        }
      ]
    },
    {
      "cell_type": "code",
      "source": [],
      "metadata": {
        "id": "s_dP7NuhC4A3"
      },
      "execution_count": null,
      "outputs": []
    }
  ]
}